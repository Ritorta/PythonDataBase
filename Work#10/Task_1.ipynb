{
 "cells": [
  {
   "cell_type": "markdown",
   "metadata": {},
   "source": [
    "# Библиотеки Python для DS (семинары)"
   ]
  },
  {
   "cell_type": "markdown",
   "metadata": {},
   "source": [
    "Урок 10. Практическое применение метода K-Means. Иерархическая кластеризация\n",
    "\n",
    "Цель: Проанализировать данные о заработной плате сотрудников из файла ds_salaries.csv и построить модели машинного обучения для прогнозирования заработной платы.\n",
    "\n",
    "Задачи:\n",
    "\n",
    "1. Первичный анализ данных:\n",
    "— Импортировать данные из файла ds_salaries.csv.\n",
    "— Очистить данные от дубликатов и пропущенных значений.\n",
    "— Исследовать типы данных, описательную статистику и корреляции между признаками.\n",
    "— Визуализировать данные с помощью Matplotlib и Seaborn.\n",
    "\n",
    "2. Построение модели линейной регрессии:\n",
    "— Разделить данные на обучающую и тестовую выборки.\n",
    "— Построить модель линейной регрессии для прогнозирования заработной платы.\n",
    "— Оценить качество модели с помощью метрик MAE, MSE и R-квадрат.\n",
    "— Проанализировать значимость признаков и мультиколлинеарность.\n",
    "\n",
    "3. Построение модели дерева решений:\n",
    "— Построить модель дерева решений для прогнозирования заработной платы.\n",
    "— Оценить качество модели с помощью метрик RMSE и R-квадрат.\n",
    "— Подберите гиперпараметры для модели дерево решений\n",
    "— Визуализировать дерево решений.\n",
    "\n",
    "4. Построение ансамблевой модели:\n",
    "— Построить ансамблевую модель, используя Random Forest и Boosting.\n",
    "— Сравнить качество ансамблевой модели с отдельными моделями.\n",
    "— Оценить важность признаков в ансамблевой модели.\n",
    "\n",
    "5. Понижение размерности:\n",
    "— Применить Principal Component Analysis (PCA) для снижения размерности данных.\n",
    "— Построить модель линейной регрессии с использованием данных, полученных после PCA.\n",
    "— Сравнить качество модели с использованием исходных данных.\n",
    "\n",
    "7. Кластеризация:\n",
    "— Применить метод K-Means для кластеризации данных по заработной плате.\n",
    "— Определить оптимальное количество кластеров.\n",
    "— Проанализировать характеристики полученных кластеров.\n",
    "— Визуализировать результаты кластеризации и проанализировать характеристики в каждом кластере.\n",
    "— Проанализируйте полученные данные и сделайте выводы о том, какой алгоритм кластеризации сможет выделить кластеры лучше, чем K-Means."
   ]
  },
  {
   "cell_type": "markdown",
   "metadata": {},
   "source": [
    "## Выполнение домашней работы"
   ]
  },
  {
   "cell_type": "markdown",
   "metadata": {},
   "source": [
    "##### Используем предоставленый к заданию файл fetch_california_housing.xlsx"
   ]
  },
  {
   "cell_type": "code",
   "execution_count": 1,
   "metadata": {},
   "outputs": [
    {
     "name": "stderr",
     "output_type": "stream",
     "text": [
      "c:\\Users\\Esdesu\\AppData\\Local\\Programs\\Python\\Python310\\lib\\site-packages\\tqdm\\auto.py:21: TqdmWarning: IProgress not found. Please update jupyter and ipywidgets. See https://ipywidgets.readthedocs.io/en/stable/user_install.html\n",
      "  from .autonotebook import tqdm as notebook_tqdm\n"
     ]
    }
   ],
   "source": [
    "# Библиотека для загрузки датасета\n",
    "from sklearn.datasets import fetch_20newsgroups\n",
    "import joblib\n",
    "# Библиотеки для работы с датасетом и графиками\n",
    "import os\n",
    "import numpy as np\n",
    "import pandas as pd\n",
    "import matplotlib.pyplot as plt\n",
    "import seaborn as sns\n",
    "import string\n",
    "import umap\n",
    "from umap import UMAP\n",
    "from sklearn.metrics.pairwise import cosine_distances\n",
    "from sklearn.preprocessing import StandardScaler, LabelEncoder\n",
    "from sklearn.model_selection import train_test_split, GridSearchCV, RandomizedSearchCV, cross_val_score\n",
    "from sklearn.feature_extraction.text import TfidfVectorizer, CountVectorizer\n",
    "from sklearn.preprocessing import PolynomialFeatures\n",
    "from sklearn.linear_model import LogisticRegression\n",
    "from sklearn.feature_selection import RFE, SelectKBest, f_classif\n",
    "from sklearn.metrics import mean_squared_error, r2_score, accuracy_score, f1_score\n",
    "from sklearn.tree import DecisionTreeRegressor\n",
    "from sklearn.decomposition import PCA\n",
    "from sklearn.manifold import TSNE\n",
    "# Необходимые ресурсы NLTK\n",
    "import nltk\n",
    "from nltk.corpus import stopwords\n",
    "from nltk.tokenize import word_tokenize\n",
    "from nltk.stem import WordNetLemmatizer\n",
    "# nltk.download('punkt')\n",
    "# nltk.download('stopwords')\n",
    "# nltk.download('wordnet')\n",
    "# nltk.download('omw-1.4')\n",
    "# nltk.download('punkt_tab')"
   ]
  },
  {
   "cell_type": "markdown",
   "metadata": {},
   "source": [
    "##### 1. Первичный анализ данных:\n",
    "\n",
    "— Импортировать данные из файла ds_salaries.csv.\n",
    "\n",
    "— Очистить данные от дубликатов и пропущенных значений.\n",
    "\n",
    "— Исследовать типы данных, описательную статистику и корреляции между признаками.\n",
    "\n",
    "— Визуализировать данные с помощью Matplotlib и Seaborn."
   ]
  },
  {
   "cell_type": "markdown",
   "metadata": {},
   "source": [
    "##### 2. Построение модели линейной регрессии:\n",
    "\n",
    "— Разделить данные на обучающую и тестовую выборки.\n",
    "\n",
    "— Построить модель линейной регрессии для прогнозирования заработной платы.\n",
    "\n",
    "— Оценить качество модели с помощью метрик MAE, MSE и R-квадрат.\n",
    "\n",
    "— Проанализировать значимость признаков и мультиколлинеарность."
   ]
  },
  {
   "cell_type": "markdown",
   "metadata": {},
   "source": [
    "##### 3. Построение модели дерева решений:\n",
    "\n",
    "— Построить модель дерева решений для прогнозирования заработной платы.\n",
    "\n",
    "— Оценить качество модели с помощью метрик RMSE и R-квадрат.\n",
    "\n",
    "— Подберите гиперпараметры для модели дерево решений\n",
    "\n",
    "— Визуализировать дерево решений."
   ]
  },
  {
   "cell_type": "markdown",
   "metadata": {},
   "source": [
    "##### 4. Построение ансамблевой модели:\n",
    "\n",
    "— Построить ансамблевую модель, используя Random Forest и Boosting.\n",
    "\n",
    "— Сравнить качество ансамблевой модели с отдельными моделями.\n",
    "\n",
    "— Оценить важность признаков в ансамблевой модели.\n"
   ]
  },
  {
   "cell_type": "markdown",
   "metadata": {},
   "source": [
    "##### 5. Понижение размерности:\n",
    "\n",
    "— Применить Principal Component Analysis (PCA) для снижения размерности данных.\n",
    "\n",
    "— Построить модель линейной регрессии с использованием данных, полученных после PCA.\n",
    "\n",
    "— Сравнить качество модели с использованием исходных данных."
   ]
  },
  {
   "cell_type": "markdown",
   "metadata": {},
   "source": [
    "##### 6. Кластеризация:\n",
    "\n",
    "— Применить метод K-Means для кластеризации данных по заработной плате.\n",
    "\n",
    "— Определить оптимальное количество кластеров.\n",
    "\n",
    "— Проанализировать характеристики полученных кластеров.\n",
    "\n",
    "— Визуализировать результаты кластеризации и проанализировать характеристики в каждом кластере.\n",
    "\n",
    "— Проанализируйте полученные данные и сделайте выводы о том, какой алгоритм кластеризации сможет выделить кластеры лучше, чем K-Means."
   ]
  }
 ],
 "metadata": {
  "kernelspec": {
   "display_name": "Python 3",
   "language": "python",
   "name": "python3"
  },
  "language_info": {
   "codemirror_mode": {
    "name": "ipython",
    "version": 3
   },
   "file_extension": ".py",
   "mimetype": "text/x-python",
   "name": "python",
   "nbconvert_exporter": "python",
   "pygments_lexer": "ipython3",
   "version": "3.10.0rc2"
  }
 },
 "nbformat": 4,
 "nbformat_minor": 2
}
