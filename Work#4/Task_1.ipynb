{
 "cells": [
  {
   "cell_type": "markdown",
   "metadata": {},
   "source": [
    "# Библиотеки Python для DS (семинары)"
   ]
  },
  {
   "cell_type": "markdown",
   "metadata": {},
   "source": [
    "Урок 4. Практическая работа. Построение модели бинарной классификации\n",
    "\n",
    "Используя diabetes-dataset, выполните следующие шаги:\n",
    "\n",
    "1. Предварительная обработка данных:\n",
    "— Очистите данные от пропусков (если они есть), обработайте аномалии и нормализуйте данные, если это необходимо.\n",
    "— Разделите датасет на обучающую и тестовую выборки.\n",
    "\n",
    "2. Построение модели:\n",
    "— Используя алгоритм логистической регрессии, постройте модель бинарной классификации для предсказания наличия диабета у пациентов.\n",
    "— Обучите модель на обучающем наборе данных.\n",
    "\n",
    "3. Оценка модели:\n",
    "— Вычислите и проанализируйте метрики точности (accuracy), точности (precision), полноты (recall) и F1-меру для обученной модели на тестовых данных."
   ]
  },
  {
   "cell_type": "markdown",
   "metadata": {},
   "source": [
    "## Выполнение домашней работы"
   ]
  },
  {
   "cell_type": "code",
   "execution_count": 2,
   "metadata": {},
   "outputs": [],
   "source": [
    "# Библиотеки для работы с датасетом и графиками\n",
    "import pandas as pd\n",
    "import matplotlib.pyplot as plt\n",
    "import seaborn as sns\n",
    "from sklearn.model_selection import train_test_split\n",
    "from sklearn.linear_model import LinearRegression\n",
    "from sklearn.metrics import mean_squared_error, mean_absolute_error, r2_score"
   ]
  },
  {
   "cell_type": "markdown",
   "metadata": {},
   "source": [
    "##### Используя diabetes-dataset"
   ]
  },
  {
   "cell_type": "code",
   "execution_count": 5,
   "metadata": {},
   "outputs": [],
   "source": [
    "# Считываем предоставленый для домашней работы датасет\n",
    "df_diaD = pd.read_csv('diabetes/diabetes-dataset.csv')"
   ]
  },
  {
   "cell_type": "markdown",
   "metadata": {},
   "source": [
    "##### 1. Предварительная обработка данных:\n",
    "— Очистите данные от пропусков (если они есть), обработайте аномалии и нормализуйте данные, если это необходимо.\n",
    "\n",
    "— Разделите датасет на обучающую и тестовую выборки."
   ]
  },
  {
   "cell_type": "code",
   "execution_count": 6,
   "metadata": {},
   "outputs": [
    {
     "data": {
      "text/html": [
       "<div>\n",
       "<style scoped>\n",
       "    .dataframe tbody tr th:only-of-type {\n",
       "        vertical-align: middle;\n",
       "    }\n",
       "\n",
       "    .dataframe tbody tr th {\n",
       "        vertical-align: top;\n",
       "    }\n",
       "\n",
       "    .dataframe thead th {\n",
       "        text-align: right;\n",
       "    }\n",
       "</style>\n",
       "<table border=\"1\" class=\"dataframe\">\n",
       "  <thead>\n",
       "    <tr style=\"text-align: right;\">\n",
       "      <th></th>\n",
       "      <th>Pregnancies</th>\n",
       "      <th>Glucose</th>\n",
       "      <th>BloodPressure</th>\n",
       "      <th>SkinThickness</th>\n",
       "      <th>Insulin</th>\n",
       "      <th>BMI</th>\n",
       "      <th>DiabetesPedigreeFunction</th>\n",
       "      <th>Age</th>\n",
       "      <th>Outcome</th>\n",
       "    </tr>\n",
       "  </thead>\n",
       "  <tbody>\n",
       "    <tr>\n",
       "      <th>0</th>\n",
       "      <td>2</td>\n",
       "      <td>138</td>\n",
       "      <td>62</td>\n",
       "      <td>35</td>\n",
       "      <td>0</td>\n",
       "      <td>33.6</td>\n",
       "      <td>0.127</td>\n",
       "      <td>47</td>\n",
       "      <td>1</td>\n",
       "    </tr>\n",
       "    <tr>\n",
       "      <th>1</th>\n",
       "      <td>0</td>\n",
       "      <td>84</td>\n",
       "      <td>82</td>\n",
       "      <td>31</td>\n",
       "      <td>125</td>\n",
       "      <td>38.2</td>\n",
       "      <td>0.233</td>\n",
       "      <td>23</td>\n",
       "      <td>0</td>\n",
       "    </tr>\n",
       "    <tr>\n",
       "      <th>2</th>\n",
       "      <td>0</td>\n",
       "      <td>145</td>\n",
       "      <td>0</td>\n",
       "      <td>0</td>\n",
       "      <td>0</td>\n",
       "      <td>44.2</td>\n",
       "      <td>0.630</td>\n",
       "      <td>31</td>\n",
       "      <td>1</td>\n",
       "    </tr>\n",
       "    <tr>\n",
       "      <th>3</th>\n",
       "      <td>0</td>\n",
       "      <td>135</td>\n",
       "      <td>68</td>\n",
       "      <td>42</td>\n",
       "      <td>250</td>\n",
       "      <td>42.3</td>\n",
       "      <td>0.365</td>\n",
       "      <td>24</td>\n",
       "      <td>1</td>\n",
       "    </tr>\n",
       "    <tr>\n",
       "      <th>4</th>\n",
       "      <td>1</td>\n",
       "      <td>139</td>\n",
       "      <td>62</td>\n",
       "      <td>41</td>\n",
       "      <td>480</td>\n",
       "      <td>40.7</td>\n",
       "      <td>0.536</td>\n",
       "      <td>21</td>\n",
       "      <td>0</td>\n",
       "    </tr>\n",
       "  </tbody>\n",
       "</table>\n",
       "</div>"
      ],
      "text/plain": [
       "   Pregnancies  Glucose  BloodPressure  SkinThickness  Insulin   BMI  \\\n",
       "0            2      138             62             35        0  33.6   \n",
       "1            0       84             82             31      125  38.2   \n",
       "2            0      145              0              0        0  44.2   \n",
       "3            0      135             68             42      250  42.3   \n",
       "4            1      139             62             41      480  40.7   \n",
       "\n",
       "   DiabetesPedigreeFunction  Age  Outcome  \n",
       "0                     0.127   47        1  \n",
       "1                     0.233   23        0  \n",
       "2                     0.630   31        1  \n",
       "3                     0.365   24        1  \n",
       "4                     0.536   21        0  "
      ]
     },
     "execution_count": 6,
     "metadata": {},
     "output_type": "execute_result"
    }
   ],
   "source": [
    "# Выводим дата фрейм\n",
    "df_diaD.head()"
   ]
  },
  {
   "cell_type": "markdown",
   "metadata": {},
   "source": [
    "Этот фрейм данных содержит следующие столбцы:\n",
    "\n",
    "1. MedInc (Средний доход населения в квартале)\n",
    "2. HouseAge (Средний возраст дома в квартале)\n",
    "3. AveRooms (Средние количество команат)\n",
    "4. AveBedrms (Средние количество спален)\n",
    "5. Population (Население квартала)\n",
    "6. AveOccup (Средняя заполняемость дома)\n",
    "7. Latitude (Широта жилого квартала)\n",
    "8. Longitude (Долгота жилого квартала)\n",
    "9. MedHouseVal (Средняя цена дома)"
   ]
  },
  {
   "cell_type": "code",
   "execution_count": 6,
   "metadata": {},
   "outputs": [
    {
     "name": "stdout",
     "output_type": "stream",
     "text": [
      "<class 'pandas.core.frame.DataFrame'>\n",
      "RangeIndex: 20640 entries, 0 to 20639\n",
      "Data columns (total 9 columns):\n",
      " #   Column       Non-Null Count  Dtype  \n",
      "---  ------       --------------  -----  \n",
      " 0   MedInc       20640 non-null  float64\n",
      " 1   HouseAge     20640 non-null  float64\n",
      " 2   AveRooms     20640 non-null  float64\n",
      " 3   AveBedrms    20640 non-null  float64\n",
      " 4   Population   20640 non-null  float64\n",
      " 5   AveOccup     20640 non-null  float64\n",
      " 6   Latitude     20640 non-null  float64\n",
      " 7   Longitude    20640 non-null  float64\n",
      " 8   MedHouseVal  20640 non-null  float64\n",
      "dtypes: float64(9)\n",
      "memory usage: 1.4 MB\n"
     ]
    }
   ],
   "source": [
    "# Выводим общую информацию\n",
    "df_hous.info()"
   ]
  },
  {
   "cell_type": "code",
   "execution_count": 7,
   "metadata": {},
   "outputs": [
    {
     "data": {
      "text/plain": [
       "MedInc         float64\n",
       "HouseAge       float64\n",
       "AveRooms       float64\n",
       "AveBedrms      float64\n",
       "Population     float64\n",
       "AveOccup       float64\n",
       "Latitude       float64\n",
       "Longitude      float64\n",
       "MedHouseVal    float64\n",
       "dtype: object"
      ]
     },
     "execution_count": 7,
     "metadata": {},
     "output_type": "execute_result"
    }
   ],
   "source": [
    "# Смотрим тип данных\n",
    "df_hous.dtypes"
   ]
  },
  {
   "cell_type": "markdown",
   "metadata": {},
   "source": [
    "Из общей информации следует:\n",
    "1. Всего 8 колонок\n",
    "2. Нулевые значения отсуствуют\n",
    "3. Нет пропущеных записей в колонках\n",
    "4. Все колонки находятся в дробных float64 значениях"
   ]
  },
  {
   "cell_type": "markdown",
   "metadata": {},
   "source": [
    "Статистический анализ объектных переменных не проводим так как их нет в данном датасете и нам не нужно их назначать согласно задания"
   ]
  },
  {
   "cell_type": "code",
   "execution_count": 8,
   "metadata": {},
   "outputs": [
    {
     "data": {
      "text/html": [
       "<div>\n",
       "<style scoped>\n",
       "    .dataframe tbody tr th:only-of-type {\n",
       "        vertical-align: middle;\n",
       "    }\n",
       "\n",
       "    .dataframe tbody tr th {\n",
       "        vertical-align: top;\n",
       "    }\n",
       "\n",
       "    .dataframe thead th {\n",
       "        text-align: right;\n",
       "    }\n",
       "</style>\n",
       "<table border=\"1\" class=\"dataframe\">\n",
       "  <thead>\n",
       "    <tr style=\"text-align: right;\">\n",
       "      <th></th>\n",
       "      <th>count</th>\n",
       "      <th>mean</th>\n",
       "      <th>std</th>\n",
       "      <th>min</th>\n",
       "      <th>25%</th>\n",
       "      <th>50%</th>\n",
       "      <th>75%</th>\n",
       "      <th>max</th>\n",
       "    </tr>\n",
       "  </thead>\n",
       "  <tbody>\n",
       "    <tr>\n",
       "      <th>MedInc</th>\n",
       "      <td>20640.0</td>\n",
       "      <td>3.870671</td>\n",
       "      <td>1.899822</td>\n",
       "      <td>0.499900</td>\n",
       "      <td>2.563400</td>\n",
       "      <td>3.534800</td>\n",
       "      <td>4.743250</td>\n",
       "      <td>15.000100</td>\n",
       "    </tr>\n",
       "    <tr>\n",
       "      <th>HouseAge</th>\n",
       "      <td>20640.0</td>\n",
       "      <td>28.639486</td>\n",
       "      <td>12.585558</td>\n",
       "      <td>1.000000</td>\n",
       "      <td>18.000000</td>\n",
       "      <td>29.000000</td>\n",
       "      <td>37.000000</td>\n",
       "      <td>52.000000</td>\n",
       "    </tr>\n",
       "    <tr>\n",
       "      <th>AveRooms</th>\n",
       "      <td>20640.0</td>\n",
       "      <td>5.429000</td>\n",
       "      <td>2.474173</td>\n",
       "      <td>0.846154</td>\n",
       "      <td>4.440716</td>\n",
       "      <td>5.229129</td>\n",
       "      <td>6.052381</td>\n",
       "      <td>141.909091</td>\n",
       "    </tr>\n",
       "    <tr>\n",
       "      <th>AveBedrms</th>\n",
       "      <td>20640.0</td>\n",
       "      <td>1.096675</td>\n",
       "      <td>0.473911</td>\n",
       "      <td>0.333333</td>\n",
       "      <td>1.006079</td>\n",
       "      <td>1.048780</td>\n",
       "      <td>1.099526</td>\n",
       "      <td>34.066667</td>\n",
       "    </tr>\n",
       "    <tr>\n",
       "      <th>Population</th>\n",
       "      <td>20640.0</td>\n",
       "      <td>1425.476744</td>\n",
       "      <td>1132.462122</td>\n",
       "      <td>3.000000</td>\n",
       "      <td>787.000000</td>\n",
       "      <td>1166.000000</td>\n",
       "      <td>1725.000000</td>\n",
       "      <td>35682.000000</td>\n",
       "    </tr>\n",
       "    <tr>\n",
       "      <th>AveOccup</th>\n",
       "      <td>20640.0</td>\n",
       "      <td>3.070655</td>\n",
       "      <td>10.386050</td>\n",
       "      <td>0.692308</td>\n",
       "      <td>2.429741</td>\n",
       "      <td>2.818116</td>\n",
       "      <td>3.282261</td>\n",
       "      <td>1243.333333</td>\n",
       "    </tr>\n",
       "    <tr>\n",
       "      <th>Latitude</th>\n",
       "      <td>20640.0</td>\n",
       "      <td>35.631861</td>\n",
       "      <td>2.135952</td>\n",
       "      <td>32.540000</td>\n",
       "      <td>33.930000</td>\n",
       "      <td>34.260000</td>\n",
       "      <td>37.710000</td>\n",
       "      <td>41.950000</td>\n",
       "    </tr>\n",
       "    <tr>\n",
       "      <th>Longitude</th>\n",
       "      <td>20640.0</td>\n",
       "      <td>-119.569704</td>\n",
       "      <td>2.003532</td>\n",
       "      <td>-124.350000</td>\n",
       "      <td>-121.800000</td>\n",
       "      <td>-118.490000</td>\n",
       "      <td>-118.010000</td>\n",
       "      <td>-114.310000</td>\n",
       "    </tr>\n",
       "    <tr>\n",
       "      <th>MedHouseVal</th>\n",
       "      <td>20640.0</td>\n",
       "      <td>2.068558</td>\n",
       "      <td>1.153956</td>\n",
       "      <td>0.149990</td>\n",
       "      <td>1.196000</td>\n",
       "      <td>1.797000</td>\n",
       "      <td>2.647250</td>\n",
       "      <td>5.000010</td>\n",
       "    </tr>\n",
       "  </tbody>\n",
       "</table>\n",
       "</div>"
      ],
      "text/plain": [
       "               count         mean          std         min         25%  \\\n",
       "MedInc       20640.0     3.870671     1.899822    0.499900    2.563400   \n",
       "HouseAge     20640.0    28.639486    12.585558    1.000000   18.000000   \n",
       "AveRooms     20640.0     5.429000     2.474173    0.846154    4.440716   \n",
       "AveBedrms    20640.0     1.096675     0.473911    0.333333    1.006079   \n",
       "Population   20640.0  1425.476744  1132.462122    3.000000  787.000000   \n",
       "AveOccup     20640.0     3.070655    10.386050    0.692308    2.429741   \n",
       "Latitude     20640.0    35.631861     2.135952   32.540000   33.930000   \n",
       "Longitude    20640.0  -119.569704     2.003532 -124.350000 -121.800000   \n",
       "MedHouseVal  20640.0     2.068558     1.153956    0.149990    1.196000   \n",
       "\n",
       "                     50%          75%           max  \n",
       "MedInc          3.534800     4.743250     15.000100  \n",
       "HouseAge       29.000000    37.000000     52.000000  \n",
       "AveRooms        5.229129     6.052381    141.909091  \n",
       "AveBedrms       1.048780     1.099526     34.066667  \n",
       "Population   1166.000000  1725.000000  35682.000000  \n",
       "AveOccup        2.818116     3.282261   1243.333333  \n",
       "Latitude       34.260000    37.710000     41.950000  \n",
       "Longitude    -118.490000  -118.010000   -114.310000  \n",
       "MedHouseVal     1.797000     2.647250      5.000010  "
      ]
     },
     "execution_count": 8,
     "metadata": {},
     "output_type": "execute_result"
    }
   ],
   "source": [
    "# Статистический анализ числовых переменных\n",
    "df_hous.describe().T"
   ]
  },
  {
   "cell_type": "markdown",
   "metadata": {},
   "source": [
    "На основе представленных статистических данных неприрывных признаков можно сделать следующие выводы:\n",
    "\n",
    "1. MedInc (Средний доход населения в квартале): \n",
    "- Средний общий рейтинг на уровне 3.53\n",
    "- Миниманая 0.49\n",
    "- Максимальная 15.00\n",
    "- Медиана равна 3.87\n",
    "- Отклонение состовляет 1.89\n",
    "2. HouseAge (Средний возраст дома в квартале):\n",
    "- Средние Счёт/Оценка, счастья на уровне 29.00\n",
    "- Миниманая 1.00\n",
    "- Максимальная 52.00\n",
    "- Медиана равна 28.63\n",
    "- Отклонение состовляет 12.58\n",
    "3. AveRooms (Средние количество команат):\n",
    "- Средние значение ВВП на душу населения на уровне 5.22\n",
    "- Миниманая 0.84\n",
    "- Максимальная 141.90\n",
    "- Медиана равна 5.42\n",
    "- Отклонение состовляет 2.47\n",
    "4. AveBedrms (Средние количество спален):\n",
    "- Средние социальной поддержки на уровне 1.04\n",
    "- Миниманая 0.33\n",
    "- Максимальная 34.06\n",
    "- Медиана равна 1.09\n",
    "- Отклонение состовляет 0.47\n",
    "5. Population (Население квартала):\n",
    "- Средние значение продолжительность здоровой жизни на уровне 1166.00\n",
    "- Миниманая 3.00\n",
    "- Максимальная 35682.00\n",
    "- Медиана равна 1425.47\n",
    "- Отклонение состовляет 1132.46\n",
    "6. AveOccup (Средняя заполняемость дома):\n",
    "- Средние значение Свободы выбора в жизни на уровне 2.81\n",
    "- Миниманая 0.69\n",
    "- Максимальная 1243.33\n",
    "- Медиана равна 3.07\n",
    "- Отклонение состовляет 10.38\n",
    "7. Latitude (Широта жилого квартала):\n",
    "- Средние значение щедрости на уровне 34.26\n",
    "- Миниманая 32.54\n",
    "- Максимальная 41.95\n",
    "- Медиана равна 35.63\n",
    "- Отклонение состовляет 2.13\n",
    "8. Longitude (Долгота жилого квартала):\n",
    "- Средние значение Восприятие корупции на уровне -118.49\n",
    "- Миниманая -124.35\n",
    "- Максимальная -114.31\n",
    "- Медиана равна -119.56\n",
    "- Отклонение состовляет 2.00\n",
    "9. MedHouseVal (Средняя цена дома)\n",
    "- Средние значение Восприятие корупции на уровне 1.79\n",
    "- Миниманая 0.14\n",
    "- Максимальная 5.00\n",
    "- Медиана равна 2.06\n",
    "- Отклонение состовляет 1.15"
   ]
  },
  {
   "cell_type": "markdown",
   "metadata": {},
   "source": [
    "##### 2. Построение модели:\n",
    "\n",
    "— Используя алгоритм логистической регрессии, постройте модель бинарной классификации для предсказания наличия диабета у пациентов.\n",
    "\n",
    "— Обучите модель на обучающем наборе данных."
   ]
  },
  {
   "cell_type": "code",
   "execution_count": null,
   "metadata": {},
   "outputs": [],
   "source": [
    "# Установка стиля графиков\n",
    "sns.set(style=\"whitegrid\")\n",
    "\n",
    "# Визуализация распределения нескольких выбранных числовых переменных\n",
    "selected_columns = ['MedInc', 'HouseAge', 'AveRooms', 'AveOccup', 'MedHouseVal']\n",
    "\n",
    "plt.figure(figsize=(15, 10))\n",
    "\n",
    "for i, column in enumerate(selected_columns):\n",
    "    plt.subplot(2, 3, i + 1)\n",
    "    sns.histplot(df_hous[column], kde=True, bins=30)\n",
    "    plt.title(f'Распределение {column}')\n",
    "    plt.xlabel(column)\n",
    "    plt.ylabel('Частота')\n",
    "\n",
    "plt.tight_layout()\n",
    "plt.show()"
   ]
  },
  {
   "cell_type": "code",
   "execution_count": null,
   "metadata": {},
   "outputs": [],
   "source": [
    "# Визуализация корреляции между выбранными переменными\n",
    "correlation_matrix = df_hous[selected_columns].corr()\n",
    "\n",
    "plt.figure(figsize=(10, 8))\n",
    "sns.heatmap(correlation_matrix, annot=True, fmt=\".2f\", cmap='coolwarm', square=True, cbar_kws={\"shrink\": .8})\n",
    "plt.title('Корреляционная матрица')\n",
    "plt.show()"
   ]
  },
  {
   "cell_type": "markdown",
   "metadata": {},
   "source": [
    "##### 4. Разделите данные на обучающий и тестовый набор в соотношении 80/20."
   ]
  },
  {
   "cell_type": "code",
   "execution_count": 11,
   "metadata": {},
   "outputs": [
    {
     "name": "stdout",
     "output_type": "stream",
     "text": [
      "Размер обучающего набора: (16512, 2)\n",
      "Размер тестового набора: (4128, 2)\n"
     ]
    }
   ],
   "source": [
    "# Разделение данных на обучающий и тестовый набор\n",
    "X = df_hous[['MedInc', 'HouseAge']]\n",
    "y = df_hous['MedHouseVal']\n",
    "X_train, X_test, y_train, y_test = train_test_split(X, y, test_size=0.2, random_state=42)\n",
    "\n",
    "print(\"Размер обучающего набора:\", X_train.shape)\n",
    "print(\"Размер тестового набора:\", X_test.shape)"
   ]
  },
  {
   "cell_type": "code",
   "execution_count": 13,
   "metadata": {},
   "outputs": [
    {
     "name": "stdout",
     "output_type": "stream",
     "text": [
      "Предсказанные значения: [1.05551637 1.5113978  2.30731557 ... 4.32725202 1.72627159 1.72652128]\n"
     ]
    }
   ],
   "source": [
    "from sklearn.linear_model import LinearRegression\n",
    "\n",
    "# Создание модели линейной регрессии\n",
    "model = LinearRegression()\n",
    "\n",
    "# Обучение модели на обучающем наборе\n",
    "model.fit(X_train, y_train)\n",
    "\n",
    "# Предсказания на тестовом наборе\n",
    "y_pred = model.predict(X_test)\n",
    "\n",
    "print(\"Предсказанные значения:\", y_pred)"
   ]
  },
  {
   "cell_type": "markdown",
   "metadata": {},
   "source": [
    "##### 3. Оценка модели:\n",
    "\n",
    "— Вычислите и проанализируйте метрики точности (accuracy), точности (precision), полноты (recall) и F1-меру для обученной модели на тестовых данных."
   ]
  },
  {
   "cell_type": "code",
   "execution_count": 19,
   "metadata": {},
   "outputs": [
    {
     "name": "stdout",
     "output_type": "stream",
     "text": [
      "MSE: 0.6629874283048177,      \n",
      " MAE: 0.6059780051879192,      \n",
      " R2: 0.4940606792889837\n"
     ]
    }
   ],
   "source": [
    "# Оценка качества модели\n",
    "mse = mean_squared_error(y_test, y_pred)\n",
    "mae = mean_absolute_error(y_test, y_pred)\n",
    "r2 = r2_score(y_test, y_pred)\n",
    "\n",
    "print(f'MSE: {mse},\\\n",
    "      \\n MAE: {mae},\\\n",
    "      \\n R2: {r2}')"
   ]
  }
 ],
 "metadata": {
  "kernelspec": {
   "display_name": "Python 3",
   "language": "python",
   "name": "python3"
  },
  "language_info": {
   "codemirror_mode": {
    "name": "ipython",
    "version": 3
   },
   "file_extension": ".py",
   "mimetype": "text/x-python",
   "name": "python",
   "nbconvert_exporter": "python",
   "pygments_lexer": "ipython3",
   "version": "3.10.0rc2"
  }
 },
 "nbformat": 4,
 "nbformat_minor": 2
}
