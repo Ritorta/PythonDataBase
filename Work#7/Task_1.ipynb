{
 "cells": [
  {
   "cell_type": "markdown",
   "metadata": {},
   "source": [
    "# Библиотеки Python для DS (семинары)"
   ]
  },
  {
   "cell_type": "markdown",
   "metadata": {},
   "source": [
    "Урок 7. Практическая работа. Сравнение работы алгоритмов деревьев решений. Использование ансамблевых алгоритмов\n",
    "\n",
    "Анализ рынка недвижимости Калифорнии с использованием ансамблевых методов\n",
    "Цель задания: Использовать набор данных fetch_california_housing для построения и анализа моделей машинного обучения с акцентом на ансамблевые методы.\n",
    "\n",
    "1. Загрузка и предварительный анализ данных:\n",
    "Загрузите данные из предоставленного файла fetch_california_housing.xlsx.\n",
    "Исследуйте структуру данных, проведите описательный анализ основных статистических показателей.\n",
    "\n",
    "2. Предобработка данных:\n",
    "Очистите данные от возможных аномалий и пропущенных значений.\n",
    "\n",
    "3. Построение моделей:\n",
    "— Разделите данные на обучающую и тестовую выборки.\n",
    "— Постройте и обучите модели RandomForestRegressor и GradientBoostingRegressor.\n",
    "— Постарайтесь оптимизировать их гиперпараметры для улучшения результатов на обучающей выборке.\n",
    "\n",
    "4. Оценка моделей:\n",
    "— Оцените качество моделей на тестовой выборке с использованием метрик RMSE (Root Mean Squared Error) и R² (коэффициент детерминации).\n",
    "— Сравните результаты моделей, интерпретируйте их.\n",
    "\n",
    "5. Анализ важности признаков и выводы:\n",
    "— Используйте атрибут feature_importances_ для оценки важности признаков в каждой модели.\n",
    "— На основе полученных данных сделайте выводы о том, какие признаки наиболее значимы и почему.\n",
    "\n",
    "6. Дополнительные задачи (для желающих углубить знания):\n",
    "— Проведите кросс-валидацию результатов.\n",
    "— Исследуйте влияние удаления некоторых признаков на производительность моделей.\n"
   ]
  },
  {
   "cell_type": "markdown",
   "metadata": {},
   "source": [
    "## Выполнение домашней работы"
   ]
  },
  {
   "cell_type": "markdown",
   "metadata": {},
   "source": [
    "##### Используем предоставленый к заданию файл fetch_california_housing.xlsx"
   ]
  },
  {
   "cell_type": "code",
   "execution_count": 2,
   "metadata": {},
   "outputs": [],
   "source": [
    "# Библиотеки для работы с датасетом и графиками\n",
    "import numpy as np\n",
    "import pandas as pd\n",
    "import matplotlib.pyplot as plt\n",
    "import seaborn as sns\n",
    "from sklearn.preprocessing import StandardScaler\n",
    "from sklearn.model_selection import train_test_split\n",
    "from sklearn.linear_model import LogisticRegression\n",
    "from sklearn.metrics import accuracy_score, r2_score, classification_report\n",
    "from sklearn.linear_model import LogisticRegressionCV\n",
    "from sklearn.model_selection import learning_curve"
   ]
  },
  {
   "cell_type": "code",
   "execution_count": 3,
   "metadata": {},
   "outputs": [],
   "source": [
    "# Загружаем датасет\n",
    "df = pd.read_excel('fetch_california_housing.xlsx')"
   ]
  },
  {
   "cell_type": "markdown",
   "metadata": {},
   "source": [
    "##### 1. Загрузка и предварительный анализ данных:\n",
    "\n",
    "Загрузите данные из предоставленного файла fetch_california_housing.xlsx.\n",
    "\n",
    "Исследуйте структуру данных, проведите описательный анализ основных статистических показателей."
   ]
  },
  {
   "cell_type": "code",
   "execution_count": 8,
   "metadata": {},
   "outputs": [
    {
     "data": {
      "text/html": [
       "<div>\n",
       "<style scoped>\n",
       "    .dataframe tbody tr th:only-of-type {\n",
       "        vertical-align: middle;\n",
       "    }\n",
       "\n",
       "    .dataframe tbody tr th {\n",
       "        vertical-align: top;\n",
       "    }\n",
       "\n",
       "    .dataframe thead th {\n",
       "        text-align: right;\n",
       "    }\n",
       "</style>\n",
       "<table border=\"1\" class=\"dataframe\">\n",
       "  <thead>\n",
       "    <tr style=\"text-align: right;\">\n",
       "      <th></th>\n",
       "      <th>MedInc</th>\n",
       "      <th>HouseAge</th>\n",
       "      <th>AveRooms</th>\n",
       "      <th>AveBedrms</th>\n",
       "      <th>Population</th>\n",
       "      <th>AveOccup</th>\n",
       "      <th>Latitude</th>\n",
       "      <th>Longitude</th>\n",
       "      <th>target</th>\n",
       "    </tr>\n",
       "  </thead>\n",
       "  <tbody>\n",
       "    <tr>\n",
       "      <th>0</th>\n",
       "      <td>8.3252</td>\n",
       "      <td>41</td>\n",
       "      <td>6.984127</td>\n",
       "      <td>1.023810</td>\n",
       "      <td>322</td>\n",
       "      <td>2.555556</td>\n",
       "      <td>37.88</td>\n",
       "      <td>-122.23</td>\n",
       "      <td>4.526</td>\n",
       "    </tr>\n",
       "    <tr>\n",
       "      <th>1</th>\n",
       "      <td>8.3014</td>\n",
       "      <td>21</td>\n",
       "      <td>6.238137</td>\n",
       "      <td>0.971880</td>\n",
       "      <td>2401</td>\n",
       "      <td>2.109842</td>\n",
       "      <td>37.86</td>\n",
       "      <td>-122.22</td>\n",
       "      <td>3.585</td>\n",
       "    </tr>\n",
       "    <tr>\n",
       "      <th>2</th>\n",
       "      <td>7.2574</td>\n",
       "      <td>52</td>\n",
       "      <td>8.288136</td>\n",
       "      <td>1.073446</td>\n",
       "      <td>496</td>\n",
       "      <td>2.802260</td>\n",
       "      <td>37.85</td>\n",
       "      <td>-122.24</td>\n",
       "      <td>3.521</td>\n",
       "    </tr>\n",
       "    <tr>\n",
       "      <th>3</th>\n",
       "      <td>5.6431</td>\n",
       "      <td>52</td>\n",
       "      <td>5.817352</td>\n",
       "      <td>1.073059</td>\n",
       "      <td>558</td>\n",
       "      <td>2.547945</td>\n",
       "      <td>37.85</td>\n",
       "      <td>-122.25</td>\n",
       "      <td>3.413</td>\n",
       "    </tr>\n",
       "    <tr>\n",
       "      <th>4</th>\n",
       "      <td>3.8462</td>\n",
       "      <td>52</td>\n",
       "      <td>6.281853</td>\n",
       "      <td>1.081081</td>\n",
       "      <td>565</td>\n",
       "      <td>2.181467</td>\n",
       "      <td>37.85</td>\n",
       "      <td>-122.25</td>\n",
       "      <td>3.422</td>\n",
       "    </tr>\n",
       "    <tr>\n",
       "      <th>...</th>\n",
       "      <td>...</td>\n",
       "      <td>...</td>\n",
       "      <td>...</td>\n",
       "      <td>...</td>\n",
       "      <td>...</td>\n",
       "      <td>...</td>\n",
       "      <td>...</td>\n",
       "      <td>...</td>\n",
       "      <td>...</td>\n",
       "    </tr>\n",
       "    <tr>\n",
       "      <th>20635</th>\n",
       "      <td>1.5603</td>\n",
       "      <td>25</td>\n",
       "      <td>5.045455</td>\n",
       "      <td>1.133333</td>\n",
       "      <td>845</td>\n",
       "      <td>2.560606</td>\n",
       "      <td>39.48</td>\n",
       "      <td>-121.09</td>\n",
       "      <td>0.781</td>\n",
       "    </tr>\n",
       "    <tr>\n",
       "      <th>20636</th>\n",
       "      <td>2.5568</td>\n",
       "      <td>18</td>\n",
       "      <td>6.114035</td>\n",
       "      <td>1.315789</td>\n",
       "      <td>356</td>\n",
       "      <td>3.122807</td>\n",
       "      <td>39.49</td>\n",
       "      <td>-121.21</td>\n",
       "      <td>0.771</td>\n",
       "    </tr>\n",
       "    <tr>\n",
       "      <th>20637</th>\n",
       "      <td>1.7000</td>\n",
       "      <td>17</td>\n",
       "      <td>5.205543</td>\n",
       "      <td>1.120092</td>\n",
       "      <td>1007</td>\n",
       "      <td>2.325635</td>\n",
       "      <td>39.43</td>\n",
       "      <td>-121.22</td>\n",
       "      <td>0.923</td>\n",
       "    </tr>\n",
       "    <tr>\n",
       "      <th>20638</th>\n",
       "      <td>1.8672</td>\n",
       "      <td>18</td>\n",
       "      <td>5.329513</td>\n",
       "      <td>1.171920</td>\n",
       "      <td>741</td>\n",
       "      <td>2.123209</td>\n",
       "      <td>39.43</td>\n",
       "      <td>-121.32</td>\n",
       "      <td>0.847</td>\n",
       "    </tr>\n",
       "    <tr>\n",
       "      <th>20639</th>\n",
       "      <td>2.3886</td>\n",
       "      <td>16</td>\n",
       "      <td>5.254717</td>\n",
       "      <td>1.162264</td>\n",
       "      <td>1387</td>\n",
       "      <td>2.616981</td>\n",
       "      <td>39.37</td>\n",
       "      <td>-121.24</td>\n",
       "      <td>0.894</td>\n",
       "    </tr>\n",
       "  </tbody>\n",
       "</table>\n",
       "<p>20640 rows × 9 columns</p>\n",
       "</div>"
      ],
      "text/plain": [
       "       MedInc  HouseAge  AveRooms  AveBedrms  Population  AveOccup  Latitude  \\\n",
       "0      8.3252        41  6.984127   1.023810         322  2.555556     37.88   \n",
       "1      8.3014        21  6.238137   0.971880        2401  2.109842     37.86   \n",
       "2      7.2574        52  8.288136   1.073446         496  2.802260     37.85   \n",
       "3      5.6431        52  5.817352   1.073059         558  2.547945     37.85   \n",
       "4      3.8462        52  6.281853   1.081081         565  2.181467     37.85   \n",
       "...       ...       ...       ...        ...         ...       ...       ...   \n",
       "20635  1.5603        25  5.045455   1.133333         845  2.560606     39.48   \n",
       "20636  2.5568        18  6.114035   1.315789         356  3.122807     39.49   \n",
       "20637  1.7000        17  5.205543   1.120092        1007  2.325635     39.43   \n",
       "20638  1.8672        18  5.329513   1.171920         741  2.123209     39.43   \n",
       "20639  2.3886        16  5.254717   1.162264        1387  2.616981     39.37   \n",
       "\n",
       "       Longitude  target  \n",
       "0        -122.23   4.526  \n",
       "1        -122.22   3.585  \n",
       "2        -122.24   3.521  \n",
       "3        -122.25   3.413  \n",
       "4        -122.25   3.422  \n",
       "...          ...     ...  \n",
       "20635    -121.09   0.781  \n",
       "20636    -121.21   0.771  \n",
       "20637    -121.22   0.923  \n",
       "20638    -121.32   0.847  \n",
       "20639    -121.24   0.894  \n",
       "\n",
       "[20640 rows x 9 columns]"
      ]
     },
     "execution_count": 8,
     "metadata": {},
     "output_type": "execute_result"
    }
   ],
   "source": [
    "# Выводим дата фрейм\n",
    "df.head()\n",
    "df"
   ]
  },
  {
   "cell_type": "markdown",
   "metadata": {},
   "source": [
    "Этот фрейм данных содержит следующие столбцы:\n",
    "\n",
    "1. MedInc (Средний доход населения в квартале)\n",
    "2. HouseAge (Средний возраст дома в квартале)\n",
    "3. AveRooms (Средние количество команат)\n",
    "4. AveBedrms (Средние количество спален)\n",
    "5. Population (Население квартала)\n",
    "6. AveOccup (Средняя заполняемость дома)\n",
    "7. Latitude (Широта жилого квартала)\n",
    "8. Longitude (Долгота жилого квартала)\n",
    "9. target (Средняя цена дома)"
   ]
  },
  {
   "cell_type": "code",
   "execution_count": 9,
   "metadata": {},
   "outputs": [
    {
     "name": "stdout",
     "output_type": "stream",
     "text": [
      "<class 'pandas.core.frame.DataFrame'>\n",
      "RangeIndex: 20640 entries, 0 to 20639\n",
      "Data columns (total 9 columns):\n",
      " #   Column      Non-Null Count  Dtype  \n",
      "---  ------      --------------  -----  \n",
      " 0   MedInc      20640 non-null  float64\n",
      " 1   HouseAge    20640 non-null  int64  \n",
      " 2   AveRooms    20640 non-null  float64\n",
      " 3   AveBedrms   20640 non-null  float64\n",
      " 4   Population  20640 non-null  int64  \n",
      " 5   AveOccup    20640 non-null  float64\n",
      " 6   Latitude    20640 non-null  float64\n",
      " 7   Longitude   20640 non-null  float64\n",
      " 8   target      20640 non-null  float64\n",
      "dtypes: float64(7), int64(2)\n",
      "memory usage: 1.4 MB\n"
     ]
    }
   ],
   "source": [
    "# Выводим общую информацию\n",
    "df.info()"
   ]
  },
  {
   "cell_type": "markdown",
   "metadata": {},
   "source": [
    "Из общей информации следует:\n",
    "1. Всего 9 колонок\n",
    "2. Нулевые значения отсуствуют\n",
    "3. Нет пропущеных записей в колонках\n",
    "4. Все колонки находятся в дробных float64 значениях, кроме \"HouseAge\" и \"Population\" они в int64"
   ]
  },
  {
   "cell_type": "code",
   "execution_count": 13,
   "metadata": {},
   "outputs": [
    {
     "data": {
      "text/html": [
       "<div>\n",
       "<style scoped>\n",
       "    .dataframe tbody tr th:only-of-type {\n",
       "        vertical-align: middle;\n",
       "    }\n",
       "\n",
       "    .dataframe tbody tr th {\n",
       "        vertical-align: top;\n",
       "    }\n",
       "\n",
       "    .dataframe thead th {\n",
       "        text-align: right;\n",
       "    }\n",
       "</style>\n",
       "<table border=\"1\" class=\"dataframe\">\n",
       "  <thead>\n",
       "    <tr style=\"text-align: right;\">\n",
       "      <th></th>\n",
       "      <th>count</th>\n",
       "      <th>mean</th>\n",
       "      <th>std</th>\n",
       "      <th>min</th>\n",
       "      <th>25%</th>\n",
       "      <th>50%</th>\n",
       "      <th>75%</th>\n",
       "      <th>max</th>\n",
       "    </tr>\n",
       "  </thead>\n",
       "  <tbody>\n",
       "    <tr>\n",
       "      <th>MedInc</th>\n",
       "      <td>20640.0</td>\n",
       "      <td>3.870671</td>\n",
       "      <td>1.899822</td>\n",
       "      <td>0.499900</td>\n",
       "      <td>2.563400</td>\n",
       "      <td>3.534800</td>\n",
       "      <td>4.743250</td>\n",
       "      <td>15.000100</td>\n",
       "    </tr>\n",
       "    <tr>\n",
       "      <th>HouseAge</th>\n",
       "      <td>20640.0</td>\n",
       "      <td>28.639486</td>\n",
       "      <td>12.585558</td>\n",
       "      <td>1.000000</td>\n",
       "      <td>18.000000</td>\n",
       "      <td>29.000000</td>\n",
       "      <td>37.000000</td>\n",
       "      <td>52.000000</td>\n",
       "    </tr>\n",
       "    <tr>\n",
       "      <th>AveRooms</th>\n",
       "      <td>20640.0</td>\n",
       "      <td>5.429000</td>\n",
       "      <td>2.474173</td>\n",
       "      <td>0.846154</td>\n",
       "      <td>4.440716</td>\n",
       "      <td>5.229129</td>\n",
       "      <td>6.052381</td>\n",
       "      <td>141.909091</td>\n",
       "    </tr>\n",
       "    <tr>\n",
       "      <th>AveBedrms</th>\n",
       "      <td>20640.0</td>\n",
       "      <td>1.096675</td>\n",
       "      <td>0.473911</td>\n",
       "      <td>0.333333</td>\n",
       "      <td>1.006079</td>\n",
       "      <td>1.048780</td>\n",
       "      <td>1.099526</td>\n",
       "      <td>34.066667</td>\n",
       "    </tr>\n",
       "    <tr>\n",
       "      <th>Population</th>\n",
       "      <td>20640.0</td>\n",
       "      <td>1425.476744</td>\n",
       "      <td>1132.462122</td>\n",
       "      <td>3.000000</td>\n",
       "      <td>787.000000</td>\n",
       "      <td>1166.000000</td>\n",
       "      <td>1725.000000</td>\n",
       "      <td>35682.000000</td>\n",
       "    </tr>\n",
       "    <tr>\n",
       "      <th>AveOccup</th>\n",
       "      <td>20640.0</td>\n",
       "      <td>3.070655</td>\n",
       "      <td>10.386050</td>\n",
       "      <td>0.692308</td>\n",
       "      <td>2.429741</td>\n",
       "      <td>2.818116</td>\n",
       "      <td>3.282261</td>\n",
       "      <td>1243.333333</td>\n",
       "    </tr>\n",
       "    <tr>\n",
       "      <th>Latitude</th>\n",
       "      <td>20640.0</td>\n",
       "      <td>35.631861</td>\n",
       "      <td>2.135952</td>\n",
       "      <td>32.540000</td>\n",
       "      <td>33.930000</td>\n",
       "      <td>34.260000</td>\n",
       "      <td>37.710000</td>\n",
       "      <td>41.950000</td>\n",
       "    </tr>\n",
       "    <tr>\n",
       "      <th>Longitude</th>\n",
       "      <td>20640.0</td>\n",
       "      <td>-119.569704</td>\n",
       "      <td>2.003532</td>\n",
       "      <td>-124.350000</td>\n",
       "      <td>-121.800000</td>\n",
       "      <td>-118.490000</td>\n",
       "      <td>-118.010000</td>\n",
       "      <td>-114.310000</td>\n",
       "    </tr>\n",
       "    <tr>\n",
       "      <th>target</th>\n",
       "      <td>20640.0</td>\n",
       "      <td>2.068558</td>\n",
       "      <td>1.153956</td>\n",
       "      <td>0.149990</td>\n",
       "      <td>1.196000</td>\n",
       "      <td>1.797000</td>\n",
       "      <td>2.647250</td>\n",
       "      <td>5.000010</td>\n",
       "    </tr>\n",
       "  </tbody>\n",
       "</table>\n",
       "</div>"
      ],
      "text/plain": [
       "              count         mean          std         min         25%  \\\n",
       "MedInc      20640.0     3.870671     1.899822    0.499900    2.563400   \n",
       "HouseAge    20640.0    28.639486    12.585558    1.000000   18.000000   \n",
       "AveRooms    20640.0     5.429000     2.474173    0.846154    4.440716   \n",
       "AveBedrms   20640.0     1.096675     0.473911    0.333333    1.006079   \n",
       "Population  20640.0  1425.476744  1132.462122    3.000000  787.000000   \n",
       "AveOccup    20640.0     3.070655    10.386050    0.692308    2.429741   \n",
       "Latitude    20640.0    35.631861     2.135952   32.540000   33.930000   \n",
       "Longitude   20640.0  -119.569704     2.003532 -124.350000 -121.800000   \n",
       "target      20640.0     2.068558     1.153956    0.149990    1.196000   \n",
       "\n",
       "                    50%          75%           max  \n",
       "MedInc         3.534800     4.743250     15.000100  \n",
       "HouseAge      29.000000    37.000000     52.000000  \n",
       "AveRooms       5.229129     6.052381    141.909091  \n",
       "AveBedrms      1.048780     1.099526     34.066667  \n",
       "Population  1166.000000  1725.000000  35682.000000  \n",
       "AveOccup       2.818116     3.282261   1243.333333  \n",
       "Latitude      34.260000    37.710000     41.950000  \n",
       "Longitude   -118.490000  -118.010000   -114.310000  \n",
       "target         1.797000     2.647250      5.000010  "
      ]
     },
     "execution_count": 13,
     "metadata": {},
     "output_type": "execute_result"
    }
   ],
   "source": [
    "# Статистический анализ числовых переменных\n",
    "df.describe().T"
   ]
  },
  {
   "cell_type": "markdown",
   "metadata": {},
   "source": [
    "На основе представленных статистических данных неприрывных признаков можно сделать следующие выводы:\n",
    "\n",
    "1. MedInc (Средний доход населения в квартале): \n",
    "- Средний доход населения на уровне 3.53\n",
    "- Миниманая 0.49\n",
    "- Максимальная 15.00\n",
    "- Медиана равна 3.87\n",
    "- Отклонение состовляет 1.89\n",
    "2. HouseAge (Средний возраст дома в квартале):\n",
    "- Средние средний возраст дома на уровне 29.00\n",
    "- Миниманая 1.00\n",
    "- Максимальная 52.00\n",
    "- Медиана равна 28.63\n",
    "- Отклонение состовляет 12.58\n",
    "3. AveRooms (Средние количество комнат):\n",
    "- Средние количество комнат на уровне 5.22\n",
    "- Миниманая 0.84\n",
    "- Максимальная 141.90\n",
    "- Медиана равна 5.42\n",
    "- Отклонение состовляет 2.47\n",
    "4. AveBedrms (Средние количество спален):\n",
    "- Средние количество спален на уровне 1.04\n",
    "- Миниманая 0.33\n",
    "- Максимальная 34.06\n",
    "- Медиана равна 1.09\n",
    "- Отклонение состовляет 0.47\n",
    "5. Population (Население квартала):\n",
    "- Средние население квартала на уровне 1166.00\n",
    "- Миниманая 3.00\n",
    "- Максимальная 35682.00\n",
    "- Медиана равна 1425.47\n",
    "- Отклонение состовляет 1132.46\n",
    "6. AveOccup (Средняя заполняемость дома):\n",
    "- Средние средняя заполняемость дома на уровне 2.81\n",
    "- Миниманая 0.69\n",
    "- Максимальная 1243.33\n",
    "- Медиана равна 3.07\n",
    "- Отклонение состовляет 10.38\n",
    "7. Latitude (Широта жилого квартала):\n",
    "- Средняя широта жилого квартала на уровне 34.26\n",
    "- Миниманая 32.54\n",
    "- Максимальная 41.95\n",
    "- Медиана равна 35.63\n",
    "- Отклонение состовляет 2.13\n",
    "8. Longitude (Долгота жилого квартала):\n",
    "- Средняя долгота жилого квартала на уровне -118.49\n",
    "- Миниманая -124.35\n",
    "- Максимальная -114.31\n",
    "- Медиана равна -119.56\n",
    "- Отклонение состовляет 2.00\n",
    "9. target (Средняя цена дома)\n",
    "- Средние цена дома на уровне 1.79\n",
    "- Миниманая 0.14\n",
    "- Максимальная 5.00\n",
    "- Медиана равна 2.06\n",
    "- Отклонение состовляет 1.15"
   ]
  },
  {
   "cell_type": "markdown",
   "metadata": {},
   "source": [
    "##### 2. Предобработка данных:\n",
    "Очистите данные от возможных аномалий и пропущенных значений."
   ]
  },
  {
   "cell_type": "code",
   "execution_count": 10,
   "metadata": {},
   "outputs": [
    {
     "name": "stdout",
     "output_type": "stream",
     "text": [
      "Количество дубликатов:\n",
      "0\n"
     ]
    }
   ],
   "source": [
    "# Проверяем на дубликаты\n",
    "print(\"Количество дубликатов:\")\n",
    "print(df.duplicated().sum())"
   ]
  },
  {
   "cell_type": "markdown",
   "metadata": {},
   "source": [
    "Дубликаты отсутствуют."
   ]
  },
  {
   "cell_type": "code",
   "execution_count": null,
   "metadata": {},
   "outputs": [
    {
     "data": {
      "text/plain": [
       "MedInc        float64\n",
       "HouseAge        int64\n",
       "AveRooms      float64\n",
       "AveBedrms     float64\n",
       "Population      int64\n",
       "AveOccup      float64\n",
       "Latitude      float64\n",
       "Longitude     float64\n",
       "target        float64\n",
       "dtype: object"
      ]
     },
     "execution_count": 12,
     "metadata": {},
     "output_type": "execute_result"
    }
   ],
   "source": [
    "# Смотрим ещё раз тип данных\n",
    "df.dtypes"
   ]
  },
  {
   "cell_type": "code",
   "execution_count": 15,
   "metadata": {},
   "outputs": [
    {
     "data": {
      "text/plain": [
       "MedInc        0\n",
       "HouseAge      0\n",
       "AveRooms      0\n",
       "AveBedrms     0\n",
       "Population    0\n",
       "AveOccup      0\n",
       "Latitude      0\n",
       "Longitude     0\n",
       "target        0\n",
       "dtype: int64"
      ]
     },
     "execution_count": 15,
     "metadata": {},
     "output_type": "execute_result"
    }
   ],
   "source": [
    "# Проверка на нулевые значения\n",
    "df.isnull().sum()"
   ]
  },
  {
   "cell_type": "code",
   "execution_count": 22,
   "metadata": {},
   "outputs": [
    {
     "data": {
      "text/plain": [
       "False"
      ]
     },
     "execution_count": 22,
     "metadata": {},
     "output_type": "execute_result"
    }
   ],
   "source": [
    "# Проверка на NaN значения\n",
    "df.isnull().any().any()"
   ]
  },
  {
   "cell_type": "code",
   "execution_count": 25,
   "metadata": {},
   "outputs": [
    {
     "data": {
      "image/png": "[encoded data removed]",
      "text/plain": [
       "<Figure size 1500x1000 with 5 Axes>"
      ]
     },
     "metadata": {},
     "output_type": "display_data"
    }
   ],
   "source": [
    "# Установка стиля графиков\n",
    "sns.set(style=\"whitegrid\")\n",
    "\n",
    "# Визуализация распределения нескольких выбранных числовых переменных\n",
    "selected_columns = ['MedInc', 'HouseAge', 'AveRooms', 'AveOccup', 'target']\n",
    "\n",
    "plt.figure(figsize=(15, 10))\n",
    "\n",
    "for i, column in enumerate(selected_columns):\n",
    "    plt.subplot(2, 3, i + 1)\n",
    "    sns.histplot(df[column], kde=True, bins=30)\n",
    "    plt.title(f'Распределение {column}')\n",
    "    plt.xlabel(column)\n",
    "    plt.ylabel('Частота')\n",
    "\n",
    "plt.tight_layout()\n",
    "plt.show()"
   ]
  },
  {
   "cell_type": "code",
   "execution_count": 17,
   "metadata": {},
   "outputs": [],
   "source": [
    "# Извлечём diagnosis из признаков\n",
    "X = df_irus.drop('Species', axis=1)\n",
    "# Определим целевую переменную\n",
    "target = df_irus['Species']"
   ]
  },
  {
   "cell_type": "code",
   "execution_count": 18,
   "metadata": {},
   "outputs": [],
   "source": [
    "# Стандартизация данных\n",
    "scaler = StandardScaler()\n",
    "X_scaler = scaler.fit_transform(X)\n",
    "\n",
    "# Создание нового DataFrame со стандартизированными данными\n",
    "df_scaled = pd.DataFrame(X_scaler, columns=X.columns)"
   ]
  },
  {
   "cell_type": "markdown",
   "metadata": {},
   "source": [
    "##### 3. Построение моделей:\n",
    "\n",
    "— Разделите данные на обучающую и тестовую выборки.\n",
    "\n",
    "— Постройте и обучите модели RandomForestRegressor и GradientBoostingRegressor.\n",
    "\n",
    "— Постарайтесь оптимизировать их гиперпараметры для улучшения результатов на обучающей выборке."
   ]
  },
  {
   "cell_type": "code",
   "execution_count": 19,
   "metadata": {},
   "outputs": [
    {
     "name": "stdout",
     "output_type": "stream",
     "text": [
      "Размер обучающего набора: (120, 4)\n",
      "Размер тестового набора: (30, 4)\n"
     ]
    }
   ],
   "source": [
    "# Определяем переменные для обучения\n",
    "df_irus_scaled = df_scaled\n",
    "y = target\n",
    "\n",
    "# Разделяем данные на обучающий и тестовые наборы\n",
    "X_train, X_test, y_train, y_test = train_test_split(df_irus_scaled, y, test_size=0.2, random_state=42)\n",
    "\n",
    "# Выводим размеры\n",
    "print(\"Размер обучающего набора:\", X_train.shape)\n",
    "print(\"Размер тестового набора:\", X_test.shape)"
   ]
  },
  {
   "cell_type": "code",
   "execution_count": 20,
   "metadata": {},
   "outputs": [
    {
     "name": "stdout",
     "output_type": "stream",
     "text": [
      "Точность на тренировочных данных (без регуляризации): 0.9833333333333333\n",
      "Точность на тестовых данных (без регуляризации): 1.0\n",
      "R2 score (без регуляризации): -1.049912467165833\n"
     ]
    }
   ],
   "source": [
    "# Обучение без регуляризации\n",
    "no_reg = LogisticRegression(penalty=None, random_state=42)\n",
    "no_reg.fit(X_train, y_train)\n",
    "\n",
    "# Оценка качества на тренировочных данных\n",
    "y_train_pred = no_reg.predict(X_train)\n",
    "train_accuracy = accuracy_score(y_train, y_train_pred)\n",
    "\n",
    "# Оценка качества на тестовых данных\n",
    "y_test_pred = no_reg.predict(X_test)\n",
    "test_accuracy = accuracy_score(y_test, y_test_pred)\n",
    "\n",
    "# Получение вероятностей \n",
    "y_test_probs_no_reg = no_reg.predict_proba(X_test)[:, 1]\n",
    "\n",
    "# Вычисление R2 для вероятностей\n",
    "r2_score_no_reg = r2_score(y_test, y_test_probs_no_reg)\n",
    "\n",
    "# Вывод результатов\n",
    "print(\"Точность на тренировочных данных (без регуляризации):\", train_accuracy)\n",
    "print(\"Точность на тестовых данных (без регуляризации):\", test_accuracy)\n",
    "print(\"R2 score (без регуляризации):\", r2_score_no_reg)"
   ]
  },
  {
   "cell_type": "markdown",
   "metadata": {},
   "source": [
    "Видим что модель явно переобучается, за это может отвечать не только отсуствие регуляризации но и нехватка данных."
   ]
  },
  {
   "cell_type": "code",
   "execution_count": 21,
   "metadata": {},
   "outputs": [
    {
     "name": "stdout",
     "output_type": "stream",
     "text": [
      "Точность на тренировочных данных (L1 регуляризация): 0.9666666666666667\n",
      "Точность на тестовых данных (L1 регуляризация): 1.0\n",
      "Отчет по классификации (L1 регуляризация):\n",
      "              precision    recall  f1-score   support\n",
      "\n",
      "           0       1.00      1.00      1.00        10\n",
      "           1       1.00      1.00      1.00         9\n",
      "           2       1.00      1.00      1.00        11\n",
      "\n",
      "    accuracy                           1.00        30\n",
      "   macro avg       1.00      1.00      1.00        30\n",
      "weighted avg       1.00      1.00      1.00        30\n",
      "\n",
      "R2 score (L1 регуляризация): -0.606179927588471\n"
     ]
    }
   ],
   "source": [
    "# Определение диапазона значений для C (обратный коэффициент регуляризации)\n",
    "C_values = [0.001, 0.01, 0.1, 1, 10, 100]\n",
    "\n",
    "# Обучение модели с L1 регуляризацией\n",
    "# penalty='l1', что означает, что модель будет использовать L1 регуляризацию (также известную как Lasso).\n",
    "model_l1 = LogisticRegressionCV(penalty='l1', solver='liblinear', Cs=C_values, cv=5, random_state=42)\n",
    "model_l1.fit(X_train, y_train)\n",
    "\n",
    "# Оценка качества\n",
    "y_train_pred_l1 = model_l1.predict(X_train)\n",
    "y_test_pred_l1 = model_l1.predict(X_test)\n",
    "\n",
    "# Получение метрик Accuracy, precision, recall, f1-score, support\n",
    "train_accuracy_l1 = accuracy_score(y_train, y_train_pred_l1)\n",
    "test_accuracy_l1 = accuracy_score(y_test, y_test_pred_l1)\n",
    "\n",
    "# Получение вероятностей \n",
    "y_test_probs_l1 = model_l1.predict_proba(X_test)[:, 1]\n",
    "\n",
    "# Вычисление R2 для вероятностей\n",
    "r2_score_l1 = r2_score(y_test, y_test_probs_l1)\n",
    "\n",
    "# Вывод результатов\n",
    "print(\"Точность на тренировочных данных (L1 регуляризация):\", train_accuracy_l1)\n",
    "print(\"Точность на тестовых данных (L1 регуляризация):\", test_accuracy_l1)\n",
    "print(\"Отчет по классификации (L1 регуляризация):\")\n",
    "print(classification_report(y_test, y_test_pred_l1))\n",
    "print(\"R2 score (L1 регуляризация):\", r2_score_l1)\n"
   ]
  },
  {
   "cell_type": "code",
   "execution_count": 22,
   "metadata": {},
   "outputs": [
    {
     "name": "stdout",
     "output_type": "stream",
     "text": [
      "Точность на тренировочных данных (L2 регуляризация): 0.9666666666666667\n",
      "Точность на тестовых данных (L2 регуляризация): 1.0\n",
      "Отчет по классификации (L2 регуляризация):\n",
      "              precision    recall  f1-score   support\n",
      "\n",
      "           0       1.00      1.00      1.00        10\n",
      "           1       1.00      1.00      1.00         9\n",
      "           2       1.00      1.00      1.00        11\n",
      "\n",
      "    accuracy                           1.00        30\n",
      "   macro avg       1.00      1.00      1.00        30\n",
      "weighted avg       1.00      1.00      1.00        30\n",
      "\n",
      "R2 score (L2 регуляризация): -0.9340525590020823\n"
     ]
    }
   ],
   "source": [
    "# Определение диапазона значений для C (обратный коэффициент регуляризации)\n",
    "C_values = [0.001, 0.01, 0.1, 1, 10, 100]\n",
    "\n",
    "# Обучение модели с L2 регуляризацией\n",
    "# penalty='l2', что означает, что модель будет использовать L2 регуляризацию (также иззвестную как Ridge или Tikhonov regularization).\n",
    "model_l2 = LogisticRegressionCV(penalty='l2', Cs=C_values, cv=5, random_state=42)\n",
    "model_l2.fit(X_train, y_train)\n",
    "\n",
    "# Оценка качества\n",
    "y_train_pred_l2 = model_l2.predict(X_train)\n",
    "y_test_pred_l2 = model_l2.predict(X_test)\n",
    "\n",
    "# Получение метрик Accuracy, precision, recall, f1-score, support\n",
    "train_accuracy_l2 = accuracy_score(y_train, y_train_pred_l2)\n",
    "test_accuracy_l2 = accuracy_score(y_test, y_test_pred_l2)\n",
    "\n",
    "# Получение вероятностей \n",
    "y_test_probs_l2 = model_l2.predict_proba(X_test)[:, 1]\n",
    "\n",
    "# Вычисление R2 для вероятностей\n",
    "r2_score_l2 = r2_score(y_test, y_test_probs_l2)\n",
    "\n",
    "# Вывод результатов\n",
    "print(\"Точность на тренировочных данных (L2 регуляризация):\", train_accuracy_l2)\n",
    "print(\"Точность на тестовых данных (L2 регуляризация):\", test_accuracy_l2)\n",
    "print(\"Отчет по классификации (L2 регуляризация):\")\n",
    "print(classification_report(y_test, y_test_pred_l2))\n",
    "print(\"R2 score (L2 регуляризация):\", r2_score_l2)"
   ]
  },
  {
   "cell_type": "markdown",
   "metadata": {},
   "source": [
    "##### 4. Оценка моделей:\n",
    "\n",
    "— Оцените качество моделей на тестовой выборке с использованием метрик RMSE (Root Mean Squared Error) и R² (коэффициент детерминации).\n",
    "\n",
    "— Сравните результаты моделей, интерпретируйте их."
   ]
  },
  {
   "cell_type": "markdown",
   "metadata": {},
   "source": [
    "##### 5. Анализ важности признаков и выводы:\n",
    "— Используйте атрибут feature_importances_ для оценки важности признаков в каждой модели.\n",
    "— На основе полученных данных сделайте выводы о том, какие признаки наиболее значимы и почему."
   ]
  },
  {
   "cell_type": "markdown",
   "metadata": {},
   "source": [
    "##### 6. Дополнительные задачи (для желающих углубить знания):\n",
    "— Проведите кросс-валидацию результатов.\n",
    "— Исследуйте влияние удаления некоторых признаков на производительность моделей."
   ]
  }
 ],
 "metadata": {
  "kernelspec": {
   "display_name": "Python 3",
   "language": "python",
   "name": "python3"
  },
  "language_info": {
   "codemirror_mode": {
    "name": "ipython",
    "version": 3
   },
   "file_extension": ".py",
   "mimetype": "text/x-python",
   "name": "python",
   "nbconvert_exporter": "python",
   "pygments_lexer": "ipython3",
   "version": "3.10.0rc2"
  }
 },
 "nbformat": 4,
 "nbformat_minor": 2
}
